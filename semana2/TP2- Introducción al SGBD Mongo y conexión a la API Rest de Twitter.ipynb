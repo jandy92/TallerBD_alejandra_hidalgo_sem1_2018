{
 "cells": [
  {
   "cell_type": "markdown",
   "metadata": {},
   "source": [
    "# TP2- Introducción al SGBD MongoDB y Conexión a la API Rest de Twitter"
   ]
  },
  {
   "cell_type": "markdown",
   "metadata": {},
   "source": [
    "En este trabajo práctico queremos descubrir las características del SGBD no relacional MongoDB. En este sentido, vamos a desarrollar un script que se conecta a la API Rest de Twitter para: 1) descargar datos al formato JSON, 2) almacenarlos en una base Mongo y 3) realizar algunas consultas sobre los datos."
   ]
  },
  {
   "cell_type": "markdown",
   "metadata": {},
   "source": [
    "## 1. Conectarse a la API Rest de Twitter"
   ]
  },
  {
   "cell_type": "markdown",
   "metadata": {},
   "source": [
    "- ¿Cómo crear una aplicación utilizando los datos de Twitter?: https://developer.twitter.com/en/docs/basics/getting-started\n",
    "- Crear una aplicación utilizando los datos de Twitter: https://apps.twitter.com/\n",
    "- ¿Qué deberían saber todos los desarrolladores antes de jugar con la API de twitter?: https://developer.twitter.com/en/docs/basics/things-every-developer-should-know"
   ]
  },
  {
   "cell_type": "code",
   "execution_count": 154,
   "metadata": {
    "collapsed": true
   },
   "outputs": [],
   "source": [
    "import tweepy\n",
    "\n",
    "consumer_key=\"s5CHuCpX18z66qXBXM6zSnufK\"\n",
    "consumer_secret=\"lCGAR8m5ybxXMV4Dq4h4Jn1qXfaZhWj6PhQiMOe1yVd1d0RE6e\"\n",
    "access_token=\"907630424758898688-F0KnxCXc7jOLHBA1FRvVE6Ze0YSg7or\"\n",
    "access_secret=\"uZKmionfgxfD5PTfPQMph8l09fF5Mz8ikaF2QzrYQkIpP\"\n",
    "\n",
    "\n",
    "auth = tweepy.OAuthHandler(consumer_key, consumer_secret)\n",
    "auth.set_access_token(access_token, access_secret)\n",
    "\n",
    "api = tweepy.API(auth)"
   ]
  },
  {
   "cell_type": "markdown",
   "metadata": {},
   "source": [
    "## 2. Consultar la API de Twitter"
   ]
  },
  {
   "cell_type": "markdown",
   "metadata": {},
   "source": [
    "- Utilizando una librería Python que permite enviar consultas HTTP a la API de Twitter, conectarse a un 'endpoint' de la API para leer datos. Ver la lista de los endpoints: https://developer.twitter.com/en/docs/tweets/post-and-engage/overview"
   ]
  },
  {
   "cell_type": "code",
   "execution_count": 155,
   "metadata": {
    "collapsed": true
   },
   "outputs": [],
   "source": [
    "# tweets=api.search(q='valdivia', count=500) asi se busca, pero mas abajo se realizara"
   ]
  },
  {
   "cell_type": "markdown",
   "metadata": {},
   "source": [
    "## 3. Conectarse al SGBD Mongo"
   ]
  },
  {
   "cell_type": "markdown",
   "metadata": {},
   "source": [
    "- Conectarse a Mongo desde Python utilizando la librería adecuada"
   ]
  },
  {
   "cell_type": "code",
   "execution_count": 156,
   "metadata": {
    "collapsed": true
   },
   "outputs": [],
   "source": [
    "\n",
    "from pymongo import MongoClient\n",
    "mc= MongoClient('localhost', 27017)\n",
    "db=mc.test\n",
    "db_tweets = db.tweets\n",
    "\n"
   ]
  },
  {
   "cell_type": "markdown",
   "metadata": {},
   "source": [
    "## 4. Escribir datos de Twitter en una Base de Datos Mongo"
   ]
  },
  {
   "cell_type": "markdown",
   "metadata": {},
   "source": [
    "Tener una colección Mongo almacendando Documentos con esta estructura JSON:\n",
    "{\n",
    " fecha: String\n",
    " tweet: String\n",
    " username: String\n",
    " location: String\n",
    "}"
   ]
  },
  {
   "cell_type": "markdown",
   "metadata": {},
   "source": [
    "5. Almacenar 500 tweets con los datos pedidos"
   ]
  },
  {
   "cell_type": "code",
   "execution_count": 157,
   "metadata": {},
   "outputs": [
    {
     "name": "stdout",
     "output_type": "stream",
     "text": [
      "recolectando tweets #0 intento\n",
      "Buscando tweets desde la id: 0\n",
      "100 tweets recolectados\n",
      "Almacenando tweets en mongoDB..\n",
      "tweet id [985294777108324352] almacenado\n",
      "tweet id [985294730085961739] almacenado\n",
      "tweet id [985294595323060225] almacenado\n",
      "tweet id [985294546794893312] almacenado\n",
      "tweet id [985294499386716160] almacenado\n",
      "tweet id [985294338321207298] almacenado\n",
      "tweet id [985294309246361601] almacenado\n",
      "tweet id [985294294553710596] almacenado\n",
      "tweet id [985294189603811329] almacenado\n",
      "tweet id [985294186890002432] almacenado\n",
      "tweet id [985294175661973509] almacenado\n",
      "tweet id [985294171597672448] almacenado\n",
      "tweet id [985294113225441281] almacenado\n",
      "tweet id [985294074159693824] almacenado\n",
      "tweet id [985294017385713665] almacenado\n",
      "tweet id [985294005956116480] almacenado\n",
      "tweet id [985293786132697090] almacenado\n",
      "tweet id [985293778234650624] almacenado\n",
      "tweet id [985293650103013377] almacenado\n",
      "tweet id [985293483434012672] almacenado\n",
      "tweet id [985293413452079104] almacenado\n",
      "tweet id [985293339883958278] almacenado\n",
      "tweet id [985293228818739200] almacenado\n",
      "tweet id [985293197990653952] almacenado\n",
      "tweet id [985293150901161986] almacenado\n",
      "tweet id [985293042864283648] almacenado\n",
      "tweet id [985292838450663424] almacenado\n",
      "tweet id [985292831098048512] almacenado\n",
      "tweet id [985292744854769665] almacenado\n",
      "tweet id [985292674365382657] almacenado\n",
      "tweet id [985292652689215488] almacenado\n",
      "tweet id [985292627774930944] almacenado\n",
      "tweet id [985292598066794497] almacenado\n",
      "tweet id [985292574595350528] almacenado\n",
      "tweet id [985292563904114689] almacenado\n",
      "tweet id [985292464750723073] almacenado\n",
      "tweet id [985292057035071490] almacenado\n",
      "tweet id [985291896703643649] almacenado\n",
      "tweet id [985291894803632128] almacenado\n",
      "tweet id [985291877447536640] almacenado\n",
      "tweet id [985291849383464966] almacenado\n",
      "tweet id [985291804122722304] almacenado\n",
      "tweet id [985291792638726145] almacenado\n",
      "tweet id [985291748330164224] almacenado\n",
      "tweet id [985291690914217985] almacenado\n",
      "tweet id [985291610035404801] almacenado\n",
      "tweet id [985291518666838016] almacenado\n",
      "tweet id [985291470377771010] almacenado\n",
      "tweet id [985291432431964161] almacenado\n",
      "tweet id [985291428057305089] almacenado\n",
      "tweet id [985291382423261184] almacenado\n",
      "tweet id [985291224214069248] almacenado\n",
      "tweet id [985291191901138944] almacenado\n",
      "tweet id [985291135567519746] almacenado\n",
      "tweet id [985291054646726656] almacenado\n",
      "tweet id [985291016562532352] almacenado\n",
      "tweet id [985290914506604544] almacenado\n",
      "tweet id [985290886941732864] almacenado\n",
      "tweet id [985290862103015424] almacenado\n",
      "tweet id [985290676224000001] almacenado\n",
      "tweet id [985290588047200256] almacenado\n",
      "tweet id [985290561128198145] almacenado\n",
      "tweet id [985290475568582660] almacenado\n",
      "tweet id [985290414495322113] almacenado\n",
      "tweet id [985290358975119360] almacenado\n",
      "tweet id [985290280478957568] almacenado\n",
      "tweet id [985290177399705600] almacenado\n",
      "tweet id [985290042192138240] almacenado\n",
      "tweet id [985290010843860993] almacenado\n",
      "tweet id [985289938693476352] almacenado\n",
      "tweet id [985289911040389120] almacenado\n",
      "tweet id [985289871785897984] almacenado\n",
      "tweet id [985289822519676928] almacenado\n",
      "tweet id [985289800243609601] almacenado\n",
      "tweet id [985289706119335936] almacenado\n",
      "tweet id [985289538464636928] almacenado\n",
      "tweet id [985289492557942784] almacenado\n",
      "tweet id [985289416812978176] almacenado\n",
      "tweet id [985289317340893184] almacenado\n",
      "tweet id [985289188378644481] almacenado\n",
      "tweet id [985288883498708995] almacenado\n",
      "tweet id [985288859327098881] almacenado\n",
      "tweet id [985288789529694208] almacenado\n",
      "tweet id [985288602014961665] almacenado\n",
      "tweet id [985288327480922113] almacenado\n",
      "tweet id [985288171423457280] almacenado\n",
      "tweet id [985288144114388992] almacenado\n",
      "tweet id [985288136854065152] almacenado\n",
      "tweet id [985288040020144128] almacenado\n",
      "tweet id [985287872256372736] almacenado\n",
      "tweet id [985287761971351553] almacenado\n",
      "tweet id [985287591732891652] almacenado\n",
      "tweet id [985287585491750913] almacenado\n",
      "tweet id [985287543003516928] almacenado\n",
      "tweet id [985287063858827264] almacenado\n",
      "tweet id [985286531077300225] almacenado\n",
      "tweet id [985286140772134912] almacenado\n",
      "tweet id [985285925671440384] almacenado\n",
      "tweet id [985285899230633984] almacenado\n",
      "tweet id [985285865067941889] almacenado\n",
      "Esperando 2 minutos para volver a consultar...\n",
      "recolectando tweets #1 intento\n",
      "Buscando tweets desde la id: 985294777108324352\n",
      "3 tweets recolectados\n",
      "Almacenando tweets en mongoDB..\n",
      "tweet id [985295434167054336] almacenado\n",
      "tweet id [985295361173590018] almacenado\n",
      "tweet id [985295272883474433] almacenado\n",
      "Esperando 2 minutos para volver a consultar...\n",
      "recolectando tweets #2 intento\n",
      "Buscando tweets desde la id: 985295434167054336\n",
      "1 tweets recolectados\n",
      "Almacenando tweets en mongoDB..\n",
      "tweet id [985295628270960640] almacenado\n",
      "Esperando 2 minutos para volver a consultar...\n",
      "recolectando tweets #3 intento\n",
      "Buscando tweets desde la id: 985295628270960640\n",
      "2 tweets recolectados\n",
      "Almacenando tweets en mongoDB..\n",
      "tweet id [985296477818847232] almacenado\n",
      "tweet id [985296393567948800] almacenado\n",
      "Esperando 2 minutos para volver a consultar...\n",
      "recolectando tweets #4 intento\n",
      "Buscando tweets desde la id: 985296477818847232\n",
      "2 tweets recolectados\n",
      "Almacenando tweets en mongoDB..\n",
      "tweet id [985296836230512640] almacenado\n",
      "tweet id [985296770392567814] almacenado\n",
      "Esperando 2 minutos para volver a consultar...\n"
     ]
    }
   ],
   "source": [
    "import time\n",
    "since_id=0\n",
    "db_tweets.delete_many({})\n",
    "for i in range(5):\n",
    "    print(\"recolectando tweets #{0} intento\".format(i))\n",
    "    print('Buscando tweets desde la id: {0}'.format(since_id))\n",
    "    tweets=api.search(q='valdivia',since_id=since_id,count=100)\n",
    "    tweets_id=[]\n",
    "    print(\"{0} tweets recolectados\".format(len(tweets)))\n",
    "    print(\"Almacenando tweets en mongoDB..\")\n",
    "    for tweet in tweets:\n",
    "        tweets_id.append(tweet.id)\n",
    "        new_tweet={\n",
    "                \"id\":tweet.id,\n",
    "                \"tweet_text\":tweet.text,\n",
    "                \"date\":tweet.created_at,\n",
    "                \"user_name\":tweet.user.screen_name,\n",
    "                \"location\": tweet.user.location\n",
    "        }\n",
    "        db_tweets.insert_one(new_tweet)\n",
    "        print(\"tweet id [{0}] almacenado\".format(tweet.id))\n",
    "    since_id=max(tweets_id)\n",
    "    #print(tweets_id)\n",
    "    print(\"Esperando 2 minutos para volver a consultar...\")\n",
    "    time.sleep(2*60)\n",
    "\n",
    "    "
   ]
  },
  {
   "cell_type": "markdown",
   "metadata": {},
   "source": [
    "Parte I: Desde su notebook Python (o desde la CLI de Mongo en un terminal, o la GUI Mongo Compass), realizar las consultas siguientes:"
   ]
  },
  {
   "cell_type": "markdown",
   "metadata": {},
   "source": [
    " Mostrar los documentos de su colección mostrando solamente el campo \"location\". "
   ]
  },
  {
   "cell_type": "code",
   "execution_count": 158,
   "metadata": {},
   "outputs": [
    {
     "name": "stdout",
     "output_type": "stream",
     "text": [
      "Valdivia\n",
      "Chile, sur\n",
      "Valdivia - Chile\n",
      "Nicaragua\n",
      "www.deportereyydereyes.cl\n",
      "Lima, Peru\n",
      "\n",
      "\n",
      "\n",
      "Valdivia- Chile\n",
      "\n",
      "\n",
      "\n",
      "Buenos Aires, Argentina\n",
      "\n",
      "Sleepy Hollow y Calalini\n",
      "SP, Brazil\n",
      "Lima, Peru\n",
      "\n",
      "Calama, Chile\n",
      "Valdivia-Chile\n",
      "Lissabon, Portugal\n",
      "\n",
      "La Serena, Coquimbo\n",
      "Cuiabá-MT\n",
      "\n",
      "\n",
      "\n",
      "Puerto Montt - Chile\n",
      "\n",
      "\n",
      "\n",
      "\n",
      "\n",
      "Puerto Montt, Chile\n",
      "Puerto Montt, Chile\n",
      "lucanoland\n",
      "Santiago de Chile\n",
      "US, Chile and every where\n",
      "Brasília, Brasil\n",
      "Valdivia, Chile\n",
      "\n",
      "Yungay 499, Valdivia\n",
      "\n",
      "Chile\n",
      "\n",
      "Santiago Chile\n",
      "\n",
      "Puerto Montt\n",
      "Chile\n",
      "Santiago, Chile\n",
      "Medellín, Colombia\n",
      "\n",
      "Valdivia-Chile\n",
      "\n",
      "Chile\n",
      "Chile\n",
      "\n",
      "\n",
      "\n",
      "São Mateus, SP\n",
      "Chile\n",
      "Chile, Los Rios\n",
      "Chile\n",
      "\n",
      "Valdivia, Chile\n",
      "Brasília, Brasil\n",
      "\n",
      "Chile\n",
      "São Paulo\n",
      "\n",
      "Chile\n",
      "\n",
      "Temuco, Chile\n",
      "\n",
      "Valparaiso,Chile\n",
      "Valdivia, Chile\n",
      "\n",
      "\n",
      "\n",
      "\n",
      "\n",
      "Puerto Montt\n",
      "\n",
      "\n",
      "Chile\n",
      "\n",
      "-33.460545,-70.61319\n",
      "\n",
      "Chile\n",
      "Valdivia\n",
      "Chile\n",
      "Valdivia, Chile\n",
      "La Reina, Chile\n",
      "Valdivia, Chile\n",
      "\n",
      "Chile\n",
      "\n",
      "\n",
      "Valdivia, Chile\n",
      "La Serena, Coquimbo\n",
      "\n",
      "\n",
      "Cuiabá-MT\n",
      "Venezuela♥/Por ahora en Chile \n",
      "\n",
      "Perú\n",
      "La Serena\n"
     ]
    }
   ],
   "source": [
    "result = db.tweets.find({})\n",
    "for tweet in result:\n",
    "    print(tweet['location'])"
   ]
  },
  {
   "cell_type": "markdown",
   "metadata": {},
   "source": [
    "Mostrar los tweets que contienen la palabra \"UACh\"."
   ]
  },
  {
   "cell_type": "code",
   "execution_count": 202,
   "metadata": {},
   "outputs": [
    {
     "name": "stdout",
     "output_type": "stream",
     "text": [
      "0\n"
     ]
    }
   ],
   "source": [
    "result = db.tweets.find({'tweet_text':{'$regex':'UACh',\"$options\":\"$i\"}})\n",
    "print(result.count())\n",
    "for tweet in result:\n",
    "    print(tweet['tweet_text'])"
   ]
  },
  {
   "cell_type": "markdown",
   "metadata": {},
   "source": [
    "El i es para no distinguir entre mayúsculas y minúsculas"
   ]
  },
  {
   "cell_type": "markdown",
   "metadata": {},
   "source": [
    "Contar el número de tweets por username."
   ]
  },
  {
   "cell_type": "code",
   "execution_count": 160,
   "metadata": {},
   "outputs": [
    {
     "name": "stdout",
     "output_type": "stream",
     "text": [
      "{'_id': 'Daniel_San_39', 'total': 1}\n",
      "{'_id': 'perez_indio', 'total': 1}\n",
      "{'_id': 'gidion1208', 'total': 1}\n",
      "{'_id': 'Rockesvida', 'total': 1}\n",
      "{'_id': 'mess70', 'total': 1}\n",
      "{'_id': 'FUbiergo', 'total': 1}\n",
      "{'_id': 'valdivia_herman', 'total': 1}\n",
      "{'_id': 'leandro_paredes', 'total': 1}\n",
      "{'_id': 'marfe230596', 'total': 1}\n",
      "{'_id': 'jctedeschi', 'total': 1}\n",
      "{'_id': 'adeurresti', 'total': 1}\n",
      "{'_id': 'leigchile', 'total': 1}\n",
      "{'_id': 'IsaSerey', 'total': 1}\n",
      "{'_id': 'luiz_slovak', 'total': 1}\n",
      "{'_id': 'RumboaPrimeraCL', 'total': 1}\n",
      "{'_id': 'CoolTV_Valdivia', 'total': 1}\n",
      "{'_id': 'enelcamarin', 'total': 3}\n",
      "{'_id': 'hernaneszz', 'total': 1}\n",
      "{'_id': 'ortegabalboa', 'total': 1}\n",
      "{'_id': 'karlotaroa', 'total': 1}\n",
      "{'_id': 'legispe', 'total': 1}\n",
      "{'_id': '14coto', 'total': 1}\n",
      "{'_id': 'SciForProgress', 'total': 1}\n",
      "{'_id': 'soyvaldiviacl', 'total': 1}\n",
      "{'_id': 'crisvsanchezv', 'total': 1}\n",
      "{'_id': 'primerabdechile', 'total': 8}\n",
      "{'_id': 'gustastockler', 'total': 1}\n",
      "{'_id': 'paakyy', 'total': 1}\n",
      "{'_id': 'Valdivia_10', 'total': 12}\n",
      "{'_id': 'coxismo', 'total': 2}\n",
      "{'_id': 'kandyuc', 'total': 1}\n",
      "{'_id': 'MujeresVl', 'total': 1}\n",
      "{'_id': 'carlete_10', 'total': 4}\n",
      "{'_id': 'Pancho_Nasser', 'total': 1}\n",
      "{'_id': 'monicaesoterica', 'total': 1}\n",
      "{'_id': 'csotordx', 'total': 1}\n",
      "{'_id': 'reggeboy9', 'total': 1}\n",
      "{'_id': 'Nico_18___', 'total': 1}\n",
      "{'_id': 'fsermeno', 'total': 1}\n",
      "{'_id': 'silvichios', 'total': 1}\n",
      "{'_id': 'IchiBlake', 'total': 1}\n",
      "{'_id': 'raguayor', 'total': 1}\n",
      "{'_id': 'AbrahelAngell', 'total': 1}\n",
      "{'_id': 'JuananoTorres', 'total': 1}\n",
      "{'_id': 'Fmagnetzegna', 'total': 1}\n",
      "{'_id': 'CarlosA_LR', 'total': 1}\n",
      "{'_id': 'soyoelquescribe', 'total': 1}\n",
      "{'_id': 'Gloriaparedes', 'total': 1}\n",
      "{'_id': 'omarandrest', 'total': 1}\n",
      "{'_id': 'jddurrutiac1', 'total': 1}\n",
      "{'_id': 'HermyHaro', 'total': 1}\n",
      "{'_id': 'FEspanaConcejal', 'total': 1}\n",
      "{'_id': 'D_Valdivia_Soy', 'total': 1}\n",
      "{'_id': 'chico_perez', 'total': 1}\n",
      "{'_id': 'armandomirabalf', 'total': 1}\n",
      "{'_id': 'FespanaT', 'total': 1}\n",
      "{'_id': 'JoseMiguelRuz1', 'total': 1}\n",
      "{'_id': 'djemerson_crf', 'total': 2}\n",
      "{'_id': 'Peaton2017', 'total': 5}\n",
      "{'_id': 'rusia_negra', 'total': 1}\n",
      "{'_id': 'dep_puertomontt', 'total': 2}\n",
      "{'_id': 'austral_losrios', 'total': 1}\n",
      "{'_id': 'valdivia_edgar_', 'total': 1}\n",
      "{'_id': 'Brigada_PS', 'total': 1}\n",
      "{'_id': 'Jorgecqn', 'total': 1}\n",
      "{'_id': 'lucanoland', 'total': 1}\n",
      "{'_id': 'max_bello_m', 'total': 1}\n",
      "{'_id': 'Jacky_SanMartin', 'total': 1}\n",
      "{'_id': 'Valdivia_Amador', 'total': 1}\n",
      "{'_id': 'bonvadicto', 'total': 1}\n",
      "{'_id': 'quieromibarrio', 'total': 1}\n",
      "{'_id': 'Dagotiam', 'total': 2}\n",
      "{'_id': 'orsaichile', 'total': 1}\n",
      "{'_id': 'CarlosA50987511', 'total': 1}\n",
      "{'_id': 'mylthonjimenez', 'total': 1}\n",
      "{'_id': 'Deportes1029', 'total': 1}\n",
      "{'_id': 'nina_valdivia', 'total': 1}\n"
     ]
    }
   ],
   "source": [
    "result = db.tweets.aggregate([{\"$group\":{\"_id\":\"$user_name\",\"total\":{\"$sum\":1}}}])\n",
    "for tweet in result:\n",
    "    print(tweet)"
   ]
  },
  {
   "cell_type": "markdown",
   "metadata": {},
   "source": [
    "Parte II: El SGBD Mongo permite realizar consultas geospaciales (https://docs.mongodb.com/manual/geospatial-queries/)"
   ]
  },
  {
   "cell_type": "markdown",
   "metadata": {},
   "source": [
    "1) En una sola consulta, actualizar los documentos tweets que hablan de \"valdiviacl\", agregando un campo \"city\" con el valor siguiente:\n",
    "{\n",
    " type: \"Point\",\n",
    " coordinates: [-73.245209,-39.819588]\n",
    "}"
   ]
  },
  {
   "cell_type": "code",
   "execution_count": 161,
   "metadata": {},
   "outputs": [
    {
     "data": {
      "text/plain": [
       "<pymongo.results.UpdateResult at 0x7f5b501a03f0>"
      ]
     },
     "execution_count": 161,
     "metadata": {},
     "output_type": "execute_result"
    }
   ],
   "source": [
    "db.tweets.update_many( {'tweet_text':{'$regex':'valdiviacl', \"$options\":\"$i\"}}, {'$set': {'city':{'type':'Point','coordinates':[-73.245209,-39.819588]}}})\n"
   ]
  },
  {
   "cell_type": "markdown",
   "metadata": {},
   "source": [
    "2) Recopilar algunos tweets hablando de \"Puerto Montt\" y agregar un campo \"city\" con las coordinades de Puerto Montt"
   ]
  },
  {
   "cell_type": "code",
   "execution_count": 162,
   "metadata": {},
   "outputs": [
    {
     "data": {
      "text/plain": [
       "<pymongo.results.UpdateResult at 0x7f5b501a03a8>"
      ]
     },
     "execution_count": 162,
     "metadata": {},
     "output_type": "execute_result"
    }
   ],
   "source": [
    "db.tweets.update_many( {'tweet_text':{'$regex':'Puerto Montt', \"$options\":\"$i\"}}, {'$set': {'city':{'type':'Point','coordinates':[-41.462561,-72.9988162]}}})\n"
   ]
  },
  {
   "cell_type": "markdown",
   "metadata": {},
   "source": [
    "3) Utilizar un operator de Mongo para recopilar el documento lo más cercano del punto: -73.131920, -40.574505"
   ]
  },
  {
   "cell_type": "code",
   "execution_count": 211,
   "metadata": {},
   "outputs": [
    {
     "name": "stdout",
     "output_type": "stream",
     "text": [
      "<pymongo.cursor.Cursor object at 0x7f5b52141588>\n"
     ]
    }
   ],
   "source": [
    "#db.tweets.createIndex( { 'loc' : \"2dsphere\" } )\n",
    "t=db.tweets.find( {\n",
    "   'loc': {\n",
    "     '$near': {\n",
    "       '$geometry': {\n",
    "          'type': \"Point\" ,\n",
    "          'coordinates': [-73.131920, -40.574505 ]\n",
    "       },\n",
    "       '$maxDistance': 5000,\n",
    "       '$minDistance': 1000\n",
    "     }\n",
    "   }\n",
    "})\n",
    "print(t)"
   ]
  },
  {
   "cell_type": "code",
   "execution_count": null,
   "metadata": {
    "collapsed": true
   },
   "outputs": [],
   "source": []
  }
 ],
 "metadata": {
  "kernelspec": {
   "display_name": "Python 3",
   "language": "python",
   "name": "python3"
  },
  "language_info": {
   "codemirror_mode": {
    "name": "ipython",
    "version": 3
   },
   "file_extension": ".py",
   "mimetype": "text/x-python",
   "name": "python",
   "nbconvert_exporter": "python",
   "pygments_lexer": "ipython3",
   "version": "3.6.1"
  }
 },
 "nbformat": 4,
 "nbformat_minor": 2
}
