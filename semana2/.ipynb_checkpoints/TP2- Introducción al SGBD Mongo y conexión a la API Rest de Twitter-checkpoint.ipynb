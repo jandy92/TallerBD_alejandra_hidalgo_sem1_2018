{
 "cells": [
  {
   "cell_type": "markdown",
   "metadata": {},
   "source": [
    "# TP2- Introducción al SGBD MongoDB y Conexión a la API Rest de Twitter"
   ]
  },
  {
   "cell_type": "markdown",
   "metadata": {},
   "source": [
    "En este trabajo práctico queremos descubrir las características del SGBD no relacional MongoDB. En este sentido, vamos a desarrollar un script que se conecta a la API Rest de Twitter para: 1) descargar datos al formato JSON, 2) almacenarlos en una base Mongo y 3) realizar algunas consultas sobre los datos."
   ]
  },
  {
   "cell_type": "markdown",
   "metadata": {},
   "source": [
    "## 1. Conectarse a la API Rest de Twitter"
   ]
  },
  {
   "cell_type": "markdown",
   "metadata": {},
   "source": [
    "- ¿Cómo crear una aplicación utilizando los datos de Twitter?: https://developer.twitter.com/en/docs/basics/getting-started\n",
    "- Crear una aplicación utilizando los datos de Twitter: https://apps.twitter.com/\n",
    "- ¿Qué deberían saber todos los desarrolladores antes de jugar con la API de twitter?: https://developer.twitter.com/en/docs/basics/things-every-developer-should-know"
   ]
  },
  {
   "cell_type": "code",
   "execution_count": 127,
   "metadata": {
    "collapsed": true
   },
   "outputs": [],
   "source": [
    "import tweepy\n",
    "\n",
    "consumer_key=\"s5CHuCpX18z66qXBXM6zSnufK\"\n",
    "consumer_secret=\"lCGAR8m5ybxXMV4Dq4h4Jn1qXfaZhWj6PhQiMOe1yVd1d0RE6e\"\n",
    "access_token=\"907630424758898688-F0KnxCXc7jOLHBA1FRvVE6Ze0YSg7or\"\n",
    "access_secret=\"uZKmionfgxfD5PTfPQMph8l09fF5Mz8ikaF2QzrYQkIpP\"\n",
    "\n",
    "\n",
    "auth = tweepy.OAuthHandler(consumer_key, consumer_secret)\n",
    "auth.set_access_token(access_token, access_secret)\n",
    "\n",
    "api = tweepy.API(auth)"
   ]
  },
  {
   "cell_type": "markdown",
   "metadata": {},
   "source": [
    "## 2. Consultar la API de Twitter"
   ]
  },
  {
   "cell_type": "markdown",
   "metadata": {},
   "source": [
    "- Utilizando una librería Python que permite enviar consultas HTTP a la API de Twitter, conectarse a un 'endpoint' de la API para leer datos. Ver la lista de los endpoints: https://developer.twitter.com/en/docs/tweets/post-and-engage/overview"
   ]
  },
  {
   "cell_type": "code",
   "execution_count": 128,
   "metadata": {
    "collapsed": true
   },
   "outputs": [],
   "source": [
    "# tweets=api.search(q='valdivia', count=500) asi se busca, pero mas abajo se realizara"
   ]
  },
  {
   "cell_type": "markdown",
   "metadata": {},
   "source": [
    "## 3. Conectarse al SGBD Mongo"
   ]
  },
  {
   "cell_type": "markdown",
   "metadata": {},
   "source": [
    "- Conectarse a Mongo desde Python utilizando la librería adecuada"
   ]
  },
  {
   "cell_type": "code",
   "execution_count": 129,
   "metadata": {
    "collapsed": true
   },
   "outputs": [],
   "source": [
    "\n",
    "from pymongo import MongoClient\n",
    "mc= MongoClient('localhost', 27017)\n",
    "db=mc.test\n",
    "db_tweets = db.tweets\n",
    "\n"
   ]
  },
  {
   "cell_type": "markdown",
   "metadata": {},
   "source": [
    "## 4. Escribir datos de Twitter en una Base de Datos Mongo"
   ]
  },
  {
   "cell_type": "markdown",
   "metadata": {},
   "source": [
    "Tener una colección Mongo almacendando Documentos con esta estructura JSON:\n",
    "{\n",
    " fecha: String\n",
    " tweet: String\n",
    " username: String\n",
    " location: String\n",
    "}"
   ]
  },
  {
   "cell_type": "markdown",
   "metadata": {},
   "source": [
    "5. Almacenar 500 tweets con los datos pedidos"
   ]
  },
  {
   "cell_type": "code",
   "execution_count": 130,
   "metadata": {},
   "outputs": [
    {
     "name": "stdout",
     "output_type": "stream",
     "text": [
      "recolectando tweets #0 intento\n",
      "Buscando tweets desde la id: 0\n",
      "100 tweets recolectados\n",
      "Almacenando tweets en mongoDB..\n",
      "tweet id [985272375561408514] almacenado\n",
      "tweet id [985272277360050177] almacenado\n",
      "tweet id [985272189804072961] almacenado\n",
      "tweet id [985272163195346944] almacenado\n",
      "tweet id [985272016470269952] almacenado\n",
      "tweet id [985271760537956352] almacenado\n",
      "tweet id [985271759837507584] almacenado\n",
      "tweet id [985271655630032896] almacenado\n",
      "tweet id [985271596859510784] almacenado\n",
      "tweet id [985271557261025281] almacenado\n",
      "tweet id [985271509177552896] almacenado\n",
      "tweet id [985271389291732994] almacenado\n",
      "tweet id [985271353451470848] almacenado\n",
      "tweet id [985271287101689856] almacenado\n",
      "tweet id [985271281456242688] almacenado\n",
      "tweet id [985271275286392834] almacenado\n",
      "tweet id [985271228968693760] almacenado\n",
      "tweet id [985271181296185344] almacenado\n",
      "tweet id [985270935459639297] almacenado\n",
      "tweet id [985270934666915841] almacenado\n",
      "tweet id [985270928669069312] almacenado\n",
      "tweet id [985270919911403520] almacenado\n",
      "tweet id [985270904094642176] almacenado\n",
      "tweet id [985270893445287936] almacenado\n",
      "tweet id [985270810989514753] almacenado\n",
      "tweet id [985270774964645889] almacenado\n",
      "tweet id [985270759500271616] almacenado\n",
      "tweet id [985270744279117826] almacenado\n",
      "tweet id [985270609419685888] almacenado\n",
      "tweet id [985270561638092802] almacenado\n",
      "tweet id [985270493115764738] almacenado\n",
      "tweet id [985270439202185216] almacenado\n",
      "tweet id [985270417781862404] almacenado\n",
      "tweet id [985270362773622785] almacenado\n",
      "tweet id [985270277041983488] almacenado\n",
      "tweet id [985270269181939714] almacenado\n",
      "tweet id [985269831346933761] almacenado\n",
      "tweet id [985269755387969536] almacenado\n",
      "tweet id [985269724316618752] almacenado\n",
      "tweet id [985269714812391426] almacenado\n",
      "tweet id [985269647992860672] almacenado\n",
      "tweet id [985269600936853504] almacenado\n",
      "tweet id [985269586504413185] almacenado\n",
      "tweet id [985269530573275137] almacenado\n",
      "tweet id [985269497278992384] almacenado\n",
      "tweet id [985269467402915846] almacenado\n",
      "tweet id [985269421622120450] almacenado\n",
      "tweet id [985269412218396672] almacenado\n",
      "tweet id [985269336591028224] almacenado\n",
      "tweet id [985269194349522950] almacenado\n",
      "tweet id [985269064988790784] almacenado\n",
      "tweet id [985268739536052227] almacenado\n",
      "tweet id [985268556181975040] almacenado\n",
      "tweet id [985268481221451786] almacenado\n",
      "tweet id [985268360236716034] almacenado\n",
      "tweet id [985268164123660288] almacenado\n",
      "tweet id [985268041880653824] almacenado\n",
      "tweet id [985267987392487430] almacenado\n",
      "tweet id [985267899706245121] almacenado\n",
      "tweet id [985267560651292672] almacenado\n",
      "tweet id [985267097591844865] almacenado\n",
      "tweet id [985267055355146241] almacenado\n",
      "tweet id [985266935284862976] almacenado\n",
      "tweet id [985266871418150912] almacenado\n",
      "tweet id [985266800026931202] almacenado\n",
      "tweet id [985266361743085569] almacenado\n",
      "tweet id [985266252871544832] almacenado\n",
      "tweet id [985265820677832705] almacenado\n",
      "tweet id [985265038406582272] almacenado\n",
      "tweet id [985264949608972288] almacenado\n",
      "tweet id [985264854440316928] almacenado\n",
      "tweet id [985264698831654912] almacenado\n",
      "tweet id [985264514785529856] almacenado\n",
      "tweet id [985264476042809346] almacenado\n",
      "tweet id [985264474696364033] almacenado\n",
      "tweet id [985264316009144321] almacenado\n",
      "tweet id [985264224854265856] almacenado\n",
      "tweet id [985264156239716353] almacenado\n",
      "tweet id [985264092473712640] almacenado\n",
      "tweet id [985264058315214848] almacenado\n",
      "tweet id [985264007971033088] almacenado\n",
      "tweet id [985264004263182338] almacenado\n",
      "tweet id [985263997313220608] almacenado\n",
      "tweet id [985263988081651712] almacenado\n",
      "tweet id [985263983610552320] almacenado\n",
      "tweet id [985263955470929920] almacenado\n",
      "tweet id [985263953797353472] almacenado\n",
      "tweet id [985263900106084352] almacenado\n",
      "tweet id [985263870725054464] almacenado\n",
      "tweet id [985263791767203841] almacenado\n",
      "tweet id [985263766605647872] almacenado\n",
      "tweet id [985263699949752320] almacenado\n",
      "tweet id [985263643951599616] almacenado\n",
      "tweet id [985263426871152640] almacenado\n",
      "tweet id [985263261368180738] almacenado\n",
      "tweet id [985263099052810240] almacenado\n",
      "tweet id [985262378832093184] almacenado\n",
      "tweet id [985262237123260417] almacenado\n",
      "tweet id [985262136065748992] almacenado\n",
      "tweet id [985262100128915463] almacenado\n",
      "Esperando 2 minutos para volver a consultar...\n",
      "recolectando tweets #1 intento\n",
      "Buscando tweets desde la id: 985272375561408514\n",
      "12 tweets recolectados\n",
      "Almacenando tweets en mongoDB..\n",
      "tweet id [985272961715392513] almacenado\n",
      "tweet id [985272927934443521] almacenado\n",
      "tweet id [985272843586940928] almacenado\n",
      "tweet id [985272778424283136] almacenado\n",
      "tweet id [985272755649241088] almacenado\n",
      "tweet id [985272734950264838] almacenado\n",
      "tweet id [985272717015384066] almacenado\n",
      "tweet id [985272691614715904] almacenado\n",
      "tweet id [985272656575381509] almacenado\n",
      "tweet id [985272650900664326] almacenado\n",
      "tweet id [985272614842175489] almacenado\n",
      "tweet id [985272548194750465] almacenado\n",
      "Esperando 2 minutos para volver a consultar...\n",
      "recolectando tweets #2 intento\n",
      "Buscando tweets desde la id: 985272961715392513\n",
      "6 tweets recolectados\n",
      "Almacenando tweets en mongoDB..\n",
      "tweet id [985273400850632710] almacenado\n",
      "tweet id [985273284311777281] almacenado\n",
      "tweet id [985273277194080256] almacenado\n",
      "tweet id [985273121736359938] almacenado\n",
      "tweet id [985273117676208128] almacenado\n",
      "tweet id [985272998314864641] almacenado\n",
      "Esperando 2 minutos para volver a consultar...\n",
      "recolectando tweets #3 intento\n",
      "Buscando tweets desde la id: 985273400850632710\n",
      "9 tweets recolectados\n",
      "Almacenando tweets en mongoDB..\n",
      "tweet id [985273959250788352] almacenado\n",
      "tweet id [985273888560033793] almacenado\n",
      "tweet id [985273837637046273] almacenado\n",
      "tweet id [985273805122744325] almacenado\n",
      "tweet id [985273691608158208] almacenado\n",
      "tweet id [985273610934870016] almacenado\n",
      "tweet id [985273599161454592] almacenado\n",
      "tweet id [985273593088151553] almacenado\n",
      "tweet id [985273511651545088] almacenado\n",
      "Esperando 2 minutos para volver a consultar...\n",
      "recolectando tweets #4 intento\n",
      "Buscando tweets desde la id: 985273959250788352\n",
      "5 tweets recolectados\n",
      "Almacenando tweets en mongoDB..\n",
      "tweet id [985274379272642560] almacenado\n",
      "tweet id [985274366052196352] almacenado\n",
      "tweet id [985274258250174465] almacenado\n",
      "tweet id [985274134551781383] almacenado\n",
      "tweet id [985274019145486336] almacenado\n",
      "Esperando 2 minutos para volver a consultar...\n"
     ]
    }
   ],
   "source": [
    "import time\n",
    "since_id=0\n",
    "db_tweets.delete_many({})\n",
    "for i in range(5):\n",
    "    print(\"recolectando tweets #{0} intento\".format(i))\n",
    "    print('Buscando tweets desde la id: {0}'.format(since_id))\n",
    "    tweets=api.search(q='valdivia',since_id=since_id,count=100)\n",
    "    tweets_id=[]\n",
    "    print(\"{0} tweets recolectados\".format(len(tweets)))\n",
    "    print(\"Almacenando tweets en mongoDB..\")\n",
    "    for tweet in tweets:\n",
    "        tweets_id.append(tweet.id)\n",
    "        new_tweet={\n",
    "                \"id\":tweet.id,\n",
    "                \"tweet_text\":tweet.text,\n",
    "                \"date\":tweet.created_at,\n",
    "                \"user_name\":tweet.user.screen_name,\n",
    "                \"location\": tweet.user.location\n",
    "        }\n",
    "        db_tweets.insert_one(new_tweet)\n",
    "        print(\"tweet id [{0}] almacenado\".format(tweet.id))\n",
    "    since_id=max(tweets_id)\n",
    "    #print(tweets_id)\n",
    "    print(\"Esperando 2 minutos para volver a consultar...\")\n",
    "    time.sleep(2*60)\n",
    "\n",
    "    "
   ]
  },
  {
   "cell_type": "markdown",
   "metadata": {},
   "source": [
    "Parte I: Desde su notebook Python (o desde la CLI de Mongo en un terminal, o la GUI Mongo Compass), realizar las consultas siguientes:"
   ]
  },
  {
   "cell_type": "markdown",
   "metadata": {},
   "source": [
    " Mostrar los documentos de su colección mostrando solamente el campo \"location\". "
   ]
  },
  {
   "cell_type": "code",
   "execution_count": 131,
   "metadata": {},
   "outputs": [
    {
     "name": "stdout",
     "output_type": "stream",
     "text": [
      "Plaza Huincul, Neuquén, Argen.\n",
      "Temuco, Chile\n",
      "puerto montt, chile\n",
      "Plaza Huincul, Neuquén, Argen.\n",
      "Plaza Huincul, Neuquén, Argen.\n",
      "San José, Costa Rica\n",
      "Limache\n",
      "viña del mar\n",
      "Plaza Huincul, Neuquén, Argen.\n",
      "Santiago\n",
      "\n",
      "\n",
      "Puerto Montt, Chile\n",
      "Santa Elena-Manantial de Chanduy-Chanduy\n",
      "Montevideo, Uruguay\n",
      "\n",
      "Chile\n",
      "Puerto Montt, Chile\n",
      "Chile\n",
      "Puerto Montt, Chile\n",
      "Valdivia - Chile\n",
      "Puerto Montt Chile\n",
      "Puerto Montt, Chile\n",
      "chile\n",
      "\n",
      "Castro, Chiloé\n",
      "Puerto Montt\n",
      "\n",
      "Santiago\n",
      "Puerto Montt\n",
      "Puerto Montt\n",
      "Valdivia, Chile.\n",
      "Santiago de Chile\n",
      "\n",
      "Valdivia, Chile\n",
      "Chile\n",
      "\n",
      "✌\n",
      "Chile\n",
      "chile\n",
      "Santiago, Metropolitana de Santiago\n",
      "Santa Cruz, Argentina\n",
      "\n",
      "\n",
      "Chile\n",
      "Brisbane, Queensland\n",
      "Santiago, Chile\n",
      "oaxaca de juarez, oaxaca\n",
      "Viña del Mar - Chile\n",
      "Valdivia, Chile\n",
      "planeta Tierra\n",
      "Quilicura, Chile\n",
      "Concepción (Chile)\n",
      "\n",
      "Valdivia\n",
      "Chile\n",
      "-23.556215,-46.657982\n",
      "Valdivia, Chile\n",
      "Chile\n",
      "Viña del Mar.\n",
      "\n",
      "\n",
      "Valdivia, Chile\n",
      "\n",
      "Pisco-Elqui\n",
      "La Granja, Chile\n",
      "Chile\n",
      "São Paulo, Brasil\n",
      "\n",
      "\n",
      "\n",
      "Coquimbo, Chile\n",
      "Santiago de Chile\n",
      "Puerto Montt, Chile\n",
      "Valdivia, Chile\n",
      "\n",
      "São Paulo - Brasil\n",
      "Valdivia, Chile\n",
      "Maullín, Los Lagos - Santiago\n",
      "Santiago, Chile\n",
      "\n",
      "\n",
      "\n",
      "\n",
      "\n",
      "London \n",
      "Valdivia, Chile\n",
      "Talca,Chile\n",
      "Puerto Montt, Chile\n",
      "Chile\n",
      "Valdivia, Chile.\n",
      "Viña del Mar, Chile\n",
      "Los Rios - Magallanes y BioBio\n",
      "Concepción, Chile 🇨🇱\n",
      "Chile\n",
      "Valdivia, Chile\n",
      "Chile\n",
      "Santiago, Chile\n",
      "CHILE\n",
      "Sete Lagoas, Minas Gerais\n",
      "Santiago, Chile\n",
      "Valdivia, Chile.\n",
      "Cada Rincon del Planeta \n",
      "Temuco\n",
      "Puerto Montt, Chile\n",
      "Valdivia, Chile\n",
      "Plaza Huincul, Neuquén, Argen.\n",
      "\n",
      "\n",
      "Chile\n",
      "Valdivia, Chile\n",
      "\n",
      "Plaza Huincul, Neuquén, Argen.\n",
      "Puerto Montt, Chile\n",
      "Temuco\n",
      "\n",
      "Plaza Huincul, Neuquén, Argen.\n",
      "\n",
      "Plaza Huincul, Neuquén, Argen.\n",
      "Chile\n",
      "\n",
      "Plaza Huincul, Neuquén, Argen.\n",
      "\n",
      "Plaza Huincul, Neuquén, Argen.\n",
      "\n",
      "Argentina\n",
      "Ceará, Brasil\n",
      "Snap e Insta: valenferrandini \n",
      "\n",
      "Puerto Montt, Chile\n",
      "Plaza Huincul, Neuquén, Argen.\n",
      "Chile\n"
     ]
    }
   ],
   "source": [
    "result = db.tweets.find({})\n",
    "for tweet in result:\n",
    "    print(tweet['location'])"
   ]
  },
  {
   "cell_type": "markdown",
   "metadata": {},
   "source": [
    "Mostrar los tweets que contienen la palabra \"UACh\"."
   ]
  },
  {
   "cell_type": "code",
   "execution_count": 132,
   "metadata": {},
   "outputs": [
    {
     "name": "stdout",
     "output_type": "stream",
     "text": [
      "0\n"
     ]
    }
   ],
   "source": [
    "result = db.tweets.find({'tweet_text':{'$regex':'UACh',\"$options\":\"$i\"}})\n",
    "print(result.count())\n",
    "for tweet in result:\n",
    "    print(tweet['tweet_text'])"
   ]
  },
  {
   "cell_type": "markdown",
   "metadata": {},
   "source": [
    "El i es para no distinguir entre mayúsculas y minúsculas"
   ]
  },
  {
   "cell_type": "markdown",
   "metadata": {},
   "source": [
    "Contar el número de tweets por username."
   ]
  },
  {
   "cell_type": "code",
   "execution_count": 133,
   "metadata": {},
   "outputs": [
    {
     "name": "stdout",
     "output_type": "stream",
     "text": [
      "{'_id': '_urbanoide', 'total': 1}\n",
      "{'_id': 'pokofranco', 'total': 1}\n",
      "{'_id': 'mcortessU', 'total': 1}\n",
      "{'_id': 'tuno_qiqe', 'total': 1}\n",
      "{'_id': 'naniellaa', 'total': 1}\n",
      "{'_id': 'IntendenciaRM', 'total': 1}\n",
      "{'_id': 'pili_zamorano', 'total': 1}\n",
      "{'_id': 'Gonzalo_qh', 'total': 1}\n",
      "{'_id': 'soyvaldiviacl', 'total': 1}\n",
      "{'_id': 'jotapevaldivia', 'total': 1}\n",
      "{'_id': 'AlRod1963', 'total': 1}\n",
      "{'_id': 'TeamUbago', 'total': 1}\n",
      "{'_id': 'retamboriao', 'total': 1}\n",
      "{'_id': 'Kat_Valdivia', 'total': 5}\n",
      "{'_id': 'ValdiviaAguante', 'total': 1}\n",
      "{'_id': 'Mausicky', 'total': 1}\n",
      "{'_id': 'guilhermeolins', 'total': 1}\n",
      "{'_id': 'TorneoCL', 'total': 2}\n",
      "{'_id': 'nina_valdivia', 'total': 1}\n",
      "{'_id': 'Vaal_Ferrandini', 'total': 1}\n",
      "{'_id': 'china_valdivia', 'total': 1}\n",
      "{'_id': 'jperaltarMONO', 'total': 1}\n",
      "{'_id': 'rorobaez', 'total': 1}\n",
      "{'_id': 'PlanetaEscorts', 'total': 1}\n",
      "{'_id': 'FEspanaConcejal', 'total': 2}\n",
      "{'_id': 'MatiasEduardo90', 'total': 1}\n",
      "{'_id': 'Carolin38529713', 'total': 1}\n",
      "{'_id': 'SebastianOnateA', 'total': 1}\n",
      "{'_id': 'loyolaravales', 'total': 2}\n",
      "{'_id': 'EmilioPositiva', 'total': 1}\n",
      "{'_id': 'MarcosVelasquez', 'total': 1}\n",
      "{'_id': 'dep_puertomontt', 'total': 4}\n",
      "{'_id': 'radio_austral', 'total': 1}\n",
      "{'_id': 'AndresLoyarte', 'total': 1}\n",
      "{'_id': 'Raulfesthome', 'total': 1}\n",
      "{'_id': 'n0tallowed_', 'total': 4}\n",
      "{'_id': 'malditosudaca9', 'total': 1}\n",
      "{'_id': 'carlete_10', 'total': 5}\n",
      "{'_id': 'danirelator', 'total': 1}\n",
      "{'_id': 'elasertivo', 'total': 1}\n",
      "{'_id': 'enelcamarin', 'total': 7}\n",
      "{'_id': 'primerabdechile', 'total': 3}\n",
      "{'_id': 'thecrowbryan', 'total': 1}\n",
      "{'_id': 'italosaffirio', 'total': 1}\n",
      "{'_id': 'DiarioPlay', 'total': 1}\n",
      "{'_id': 'MercedesG1210', 'total': 1}\n",
      "{'_id': 'Vicente_2712', 'total': 1}\n",
      "{'_id': 'Valdivia_Ces', 'total': 1}\n",
      "{'_id': 'DJaraRamirez', 'total': 1}\n",
      "{'_id': 'TORRESJTAZE', 'total': 1}\n",
      "{'_id': 'LucasBlaset', 'total': 1}\n",
      "{'_id': 'Natii_valdivia', 'total': 1}\n",
      "{'_id': 'JimmyMcCrackin', 'total': 11}\n",
      "{'_id': 'Murilocoelho201', 'total': 1}\n",
      "{'_id': 'S_Schwartzmann', 'total': 1}\n",
      "{'_id': 'apereira_25', 'total': 1}\n",
      "{'_id': 'CristianOrias', 'total': 1}\n",
      "{'_id': 'valdivia_bieel', 'total': 1}\n",
      "{'_id': 'mikearaneda', 'total': 1}\n",
      "{'_id': 'javiernarea', 'total': 1}\n",
      "{'_id': 'carlosyucudani', 'total': 1}\n",
      "{'_id': 'RobertoCadagan', 'total': 1}\n",
      "{'_id': 'maboattini', 'total': 1}\n",
      "{'_id': 'RumboaPrimeraCL', 'total': 6}\n",
      "{'_id': 'rodrigompozas', 'total': 1}\n",
      "{'_id': 'Gloriaparedes', 'total': 1}\n",
      "{'_id': 'omarandrest', 'total': 1}\n",
      "{'_id': 'Hector06625286', 'total': 2}\n",
      "{'_id': 'IdeasFGood', 'total': 1}\n",
      "{'_id': 'leosam1205', 'total': 1}\n",
      "{'_id': 'yoyo_pino', 'total': 1}\n",
      "{'_id': 'Edgar_Valdivia', 'total': 1}\n",
      "{'_id': 'pazdanix', 'total': 1}\n",
      "{'_id': 'DPMChile', 'total': 2}\n",
      "{'_id': 'depvaldivia', 'total': 3}\n",
      "{'_id': 'Nicolascastro_p', 'total': 1}\n",
      "{'_id': 'GipartUahc', 'total': 1}\n",
      "{'_id': 'b_iona', 'total': 1}\n",
      "{'_id': 'JavieraBahAzc', 'total': 1}\n",
      "{'_id': 'HusaresLa', 'total': 2}\n",
      "{'_id': 'MarceloLeon', 'total': 1}\n",
      "{'_id': 'Patita62842373', 'total': 1}\n",
      "{'_id': 'alvaro36', 'total': 1}\n",
      "{'_id': 'coxismo', 'total': 1}\n",
      "{'_id': 'miudovisk', 'total': 1}\n",
      "{'_id': 'rioenlinea', 'total': 1}\n",
      "{'_id': 'Guerrero_Rojas', 'total': 1}\n"
     ]
    }
   ],
   "source": [
    "result = db.tweets.aggregate([{\"$group\":{\"_id\":\"$user_name\",\"total\":{\"$sum\":1}}}])\n",
    "for tweet in result:\n",
    "    print(tweet)"
   ]
  },
  {
   "cell_type": "markdown",
   "metadata": {},
   "source": [
    "Parte II: El SGBD Mongo permite realizar consultas geospaciales (https://docs.mongodb.com/manual/geospatial-queries/)"
   ]
  },
  {
   "cell_type": "markdown",
   "metadata": {},
   "source": [
    "1) En una sola consulta, actualizar los documentos tweets que hablan de \"valdiviacl\", agregando un campo \"city\" con el valor siguiente:\n",
    "{\n",
    " type: \"Point\",\n",
    " coordinates: [-73.245209,-39.819588]\n",
    "}"
   ]
  },
  {
   "cell_type": "code",
   "execution_count": null,
   "metadata": {
    "collapsed": true
   },
   "outputs": [],
   "source": []
  },
  {
   "cell_type": "markdown",
   "metadata": {},
   "source": [
    "2) Recopilar algunos tweets hablando de \"Puerto Montt\" y agregar un campo \"city\" con las coordinades de Puerto Montt"
   ]
  },
  {
   "cell_type": "code",
   "execution_count": null,
   "metadata": {
    "collapsed": true
   },
   "outputs": [],
   "source": []
  },
  {
   "cell_type": "markdown",
   "metadata": {},
   "source": [
    "3) Utilizar un operator de Mongo para recopilar el documento lo más cercano del punto: -73.131920, -40.574505"
   ]
  }
 ],
 "metadata": {
  "kernelspec": {
   "display_name": "Python 3",
   "language": "python",
   "name": "python3"
  },
  "language_info": {
   "codemirror_mode": {
    "name": "ipython",
    "version": 3
   },
   "file_extension": ".py",
   "mimetype": "text/x-python",
   "name": "python",
   "nbconvert_exporter": "python",
   "pygments_lexer": "ipython3",
   "version": "3.6.1"
  }
 },
 "nbformat": 4,
 "nbformat_minor": 2
}
