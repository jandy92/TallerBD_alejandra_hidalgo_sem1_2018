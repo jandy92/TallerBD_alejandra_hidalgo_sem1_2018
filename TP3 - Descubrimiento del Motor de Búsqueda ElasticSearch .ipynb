{
 "cells": [
  {
   "cell_type": "markdown",
   "metadata": {},
   "source": [
    "# TP3- Descubrimiento del Motor de Búsqueda ElasticSearch"
   ]
  },
  {
   "cell_type": "markdown",
   "metadata": {},
   "source": [
    "## 1) Preguntas:\n",
    "\n",
    "1.1 ¿ElasticSearch es un SGBD de nueva generación? Qué es un motor de búsqueda?\n",
    "\n",
    "1.2 ¿Cuáles son sus principales caracteristicas? ¿Qué modelo lógico de datos utiliza?\n",
    "\n",
    "1.3 ¿Cuáles son los puntos similares y las diferencias con el SGBD Mongo?\n",
    "\n",
    "1.4 ¿Cuál es la fecha de su primera versión? ¿Cuál es la frecuencia de aparación de nuevas versiones?\n",
    "\n",
    "1.5 ¿Cuál es su licencia? Cuáles son las principales caracteristicas de esta licencia?\n",
    "\n",
    "1.6 ¿Qué empresas o productos utilizan ElasticSearch? Cuáles son los casos de uso habituales?\n",
    "\n",
    "1.7 ¿Cuáles son los otros productos desarrollados en la organización Elastic?\n",
    "\n",
    "<b>Enlaces utiles</b>:\n",
    "\n",
    "https://www.elastic.co/products/elasticsearch\n",
    "\n",
    "https://en.wikipedia.org/wiki/Elasticsearch\n",
    "\n",
    "https://db-engines.com/en/ranking"
   ]
  },
  {
   "cell_type": "markdown",
   "metadata": {},
   "source": [
    "1.1 Si, ElasticSearch es un motor de busqueda basado en Lucene,proporciona un sistema distribuido, multiusuario capaz de realizar búsqueda de texto completo del motor con un HTTP interfaz web y sin esquema JSON de documentos.\n",
    "Sistema informático que busca archivos almacenados en servidores web."
   ]
  },
  {
   "cell_type": "markdown",
   "metadata": {},
   "source": [
    "Los SGBD  es para almacenar datos estructurados, el motor busqueda es para almacenar datos no estructurado"
   ]
  },
  {
   "cell_type": "markdown",
   "metadata": {},
   "source": [
    "1.2 \n",
    "Caracteristicas:\n",
    "*Elasticsearch está desarrollado en Java y está publicado como código abierto bajo las condiciones de la licencia Apache.\n",
    "*Orientado a documentos: JSON's, Basado en Apache Lucene.\n",
    "*Libre de schemas:aunque permite definirlo de ser necesarios.\n",
    "*Distribuido.\n",
    "*Multi-Tenant:permite operar sobre múltiples indices a la vez.\n",
    "*Centrado en API's: expone casi todas sus funciones via API's REST.\n",
    "\n",
    "\n",
    "Modelo logico de datos:\n",
    "Basado es documentos."
   ]
  },
  {
   "cell_type": "markdown",
   "metadata": {},
   "source": [
    "1.3. utiliza json, los datos son sin esquema, es un sistema distribuido, es una base de datos de nueva generación\n",
    "Diferencia es que se lanza como código abierto bajo los términos de la licencia de Apache "
   ]
  },
  {
   "cell_type": "markdown",
   "metadata": {},
   "source": [
    "1.4 Shay Banon creó el precursor de Elasticsearch, llamado Compass, en 2004. "
   ]
  },
  {
   "cell_type": "markdown",
   "metadata": {},
   "source": [
    "En el 08/02/2010 fue su primera versión."
   ]
  },
  {
   "cell_type": "markdown",
   "metadata": {},
   "source": [
    "Frecuencia de aparición de nuevas versiones:\n",
    "En un principio las realeases eran cada 1 mes y actualmente aproximadamente cada 2 meses.\n"
   ]
  },
  {
   "cell_type": "markdown",
   "metadata": {},
   "source": [
    "1.5 Lincecia Apache:  es una licencia permisiva de software libre escrita por Apache Software Foundation (ASF).\n",
    "Ultima version: 2.0\n",
    "Publicado:Enero de 2004.\n"
   ]
  },
  {
   "cell_type": "markdown",
   "metadata": {},
   "source": [
    "1.6 Empresas que utilizan ElasticSearch:\n",
    "Adobe Systems, Amadeus IT Group, Archive of Our Own, athenahealth, AXS, Center for Open Science, CERN, Discord,Etsy, EVS,Facebook, FDA, Foursquare, GitHub, Lichess, Mozilla, Netflix, Pixabay, Quizlet, Quora, Reverb, Slurm Workload Manager, Sophos, SoundCloud, Stack Exchange, StumbleUpon, Team Foundation Server, Vimeo, Wikimedia Foundation, Zalando SE[100]\n"
   ]
  },
  {
   "cell_type": "markdown",
   "metadata": {},
   "source": [
    "Casos de uso habituales: análisis de logs, búsqueda de texto completo, la monitorización de aplicaciones entre otros."
   ]
  },
  {
   "cell_type": "markdown",
   "metadata": {},
   "source": [
    "1.7 Otros productos desarrollados por organizacion Elastic :\n",
    "Kibana, Logstash, Beats, X-backs, ECE."
   ]
  },
  {
   "cell_type": "markdown",
   "metadata": {},
   "source": [
    "## 2) Instalar ElasticSearch\n",
    "\n",
    "2.1 Descargar e instalar ElasticSearch 6.2 (https://www.elastic.co/downloads/elasticsearch)\n",
    "\n",
    "2.2 Ejecutar ElasticSearch (bin/elasticsearch) con la configuración por defecto\n",
    "\n",
    "2.3 En un terminal, ejecutar el comando siguiente:\n",
    "\n",
    "curl -X GET \"http://localhost:9200/_cat/health?v\"\n",
    "\n",
    "De qué sirve el software CURL?\n",
    "Cuantos nodos y shards tiene su instalación de ElasticSearch? Cómo se llama su cluster?\n",
    "\n",
    "<b>Enlaces utiles:</b>\n",
    "\n",
    "https://www.elastic.co/guide/en/elasticsearch/reference/current/_cluster_health.html"
   ]
  },
  {
   "cell_type": "markdown",
   "metadata": {},
   "source": [
    "epoch      timestamp cluster       status node.total node.data shards pri relo init unassign pending_tasks max_task_wait_time active_shards_percent\n",
    "1524048371 07:46:11  elasticsearch green           1         1      0   0    0    0        0             0                  -                100.0%\n"
   ]
  },
  {
   "cell_type": "markdown",
   "metadata": {},
   "source": [
    "  CURL proyecto de software consistente en una biblioteca (libcurl) y un intérprete de comandos (curl) orientado a la transferencia de archivos.\n",
    "  (se usa para transferir archivos desde un servidor)  \n",
    "  Soporta los protocolos FTP, FTPS, HTTP, HTTPS, TFTP, SCP, SFTP, Telnet, DICT, FILE y LDAP, entre otros."
   ]
  },
  {
   "cell_type": "markdown",
   "metadata": {},
   "source": [
    "Total de nodos 1, 0 shards, el nombre del cluster = elasticsearch"
   ]
  },
  {
   "cell_type": "markdown",
   "metadata": {},
   "source": [
    "## 3) Operaciones CRUD básicas"
   ]
  },
  {
   "cell_type": "markdown",
   "metadata": {},
   "source": [
    "3.1 Listar los indices disponibles en el cluster\n",
    "\n",
    "3.2 Seguir el \"Getting Started\" de la documentación de ElasticSearch a partir de la sección siguiente: https://www.elastic.co/guide/en/elasticsearch/reference/current/_list_all_indices.html"
   ]
  },
  {
   "cell_type": "markdown",
   "metadata": {},
   "source": [
    "health status index    uuid                   pri rep docs.count docs.deleted store.size pri.store.size\n",
    "yellow open   customer KT7ys8j9ROuMfkyG8GkLPw   5   1          0            0      1.1kb          1.1kb\n"
   ]
  },
  {
   "cell_type": "markdown",
   "metadata": {},
   "source": [
    "pri: primary shard, paquetes de datos, el elasticserach devidio tus datos en 5 paquetes\n",
    "    "
   ]
  },
  {
   "cell_type": "markdown",
   "metadata": {},
   "source": [
    "## 4) Ejemplo de Aplicación en Python utilizando ElasticSearch\n",
    "Para ayudar la comunidad científica de la UACh, proponemos desarrollar un motor de búsqueda de los artículos científicos escritos por la comunidad UACh.\n",
    "\n",
    "4.1 Buscar en Internet (por ejemplo en el sitio \"Web Of Science\": http://apps.webofknowledge.com) algunos articulos científicos escritos por académicos de la UACh y copiar cada resumen de artículo en un archivo texto. "
   ]
  },
  {
   "cell_type": "markdown",
   "metadata": {},
   "source": [
    "4.2 Desde Python, conectarse a su cluster ElasticSearch y crear un indice \"articulo-uach\""
   ]
  },
  {
   "cell_type": "markdown",
   "metadata": {},
   "source": [
    "4.3 Indexar los archivos textos recopilados con algunos metadatos adicionales\n"
   ]
  },
  {
   "cell_type": "markdown",
   "metadata": {
    "collapsed": true
   },
   "source": [
    "Copiar 5 resumenes e importarlos a elastic search"
   ]
  },
  {
   "cell_type": "code",
   "execution_count": 37,
   "metadata": {
    "collapsed": true
   },
   "outputs": [],
   "source": [
    "from datetime import datetime\n",
    "from elasticsearch import Elasticsearch\n",
    "es = Elasticsearch()\n",
    "doc = {\n",
    "    'title': 'Critical thinking of young citizens towards news headlines in Chile',\n",
    "    'abstract':'Strengthening critical thinking abilities of citizens in the face of news published on the web represents a key challenge for education. Young citizens appear to be vulnerable in the face of poor quality news or those containing non-explicit ideologies. In the field of data science, computational and statistical techniques have been developed to automatically collect and characterize online news media in real time. Nevertheless, there is still not a lot of interdisciplinary research on how to design data exploration platforms supporting an educational process of critical citizenship. This article explores this opportunity through a case study analyzing critical thinking ability of students when facing news dealing with the social mobilization \"No+APF\". From data collected through 4 online exercises conducted by 75 secondary school students. 55 university students and 25 communication specialists, we investigate to what extent young citizens are able to classify news headiness and ideological orientation of news media outlets. We also question the influence of the media is brand name and the subjectivity of each participant in regards to the social mobilization \"No+APF\". The results underline the importance of group work, the influence of the brand name and the correlation between critical-thinking abilities and having a defined opinion.' ,\n",
    "    'timestamp': datetime.now(),\n",
    "}\n",
    "res = es.index(index=\"articulo-uach\", doc_type='tweet', id=1, body=doc)\n",
    "\n",
    "doc = {\n",
    "    'title': 'Randomised clinical trial of patient satisfaction with traditional and simplified complete dentures',\n",
    "    'abstract':'To clinically evaluate the patient satisfaction and associated costs of dentures made using a simplified procedure that eliminates assembly on the articulator and dentures made with the conventional technique. Single-blind randomised clinical trial. Forty edentulous patients were randomly divided into 2 groups. One group received dentures made using the conventional method (CG), and the other using a simplified technique (SG) that omits the use of functional impressions (with modelling compound and ZOE impression paste) and an articulator to assemble the models. Overall patient satisfaction was assessed at 3 and 6months by means of a Numerical Rating Scale (NRS). The comparisons were made using a repeated measures ANOVA (P=.05). No significant differences were found in terms of the satisfaction stated by the patients or the quality of the prosthesis evaluated by a professional among the dentures made using the traditional (n=17) and simplified (n=21) techniques. The rehabilitation of an edentulous patient with a simplified technique for the preparation of a total prosthesis is a feasible, more economical alternative and accepted by most patients.' ,\n",
    "    'timestamp': datetime.now(),\n",
    "}\n",
    "res = es.index(index=\"articulo-uach\", doc_type='tweet', id=2, body=doc)\n",
    "\n",
    "doc = {\n",
    "    'title':'EXIGENCIAS ACADEMICAS Y ESTRES EN LAS CARRERAS DE LA FACULTAD DE MEDICINA DE LA UNIVERSIDAD AUSTRAL DE CHILE',\n",
    "    'abstract':'To examine the levels of academic demands and their stressor consequences is one of the main objectives of this work. In order to do this, twenty four university careers corresponding to two Chilean Universities were evaluated: Universidad Austral de Chile (UACh) and the Universidad de Santiago de Chile (USACh). A total sample of 1.334 students was used for the study. This article focuses its attention on the four UACh is Medicine Careers, using a sample of 225 students. In a comparative analysis of the twenty four careers analyzed as a whole, the UACh is Medicine Faculty achieved the highest grades according to the evaluation made by the students of their respective curricular system. The measuring instrument contains a test battery for cognitive evaluations and curricular stress. This partial result coincides with the total result of the sample. In this way, the inverse relationship between the high level of academic demands and the corresponding low level of stress, and vice-versa, is confirmed. The UACh is Medicine Faculty careers show high demand levels with moderately high stress levels. In particular, the evaluations of personal situations reflect a high self esteem, accompanied with moderately low stress levels. In relation to the ideal idea of what is supposed to be a good curricular system, the students expect high demand levels, showing moderate stressor consequences. These expectations are similar to the rest of the evaluated careers of both universities. ' ,\n",
    "    'timestamp': datetime.now(),\n",
    "}\n",
    "res = es.index(index=\"articulo-uach\", doc_type='tweet', id=3, body=doc)\n",
    "\n",
    "doc = {\n",
    "    'title': 'Reconstruction of vegetation cover and land use ca. 1550 and their change towards 2007 in the Valdivian Rainforest Ecoregion of Chile (35º – 43º 30´ S)',\n",
    "    'abstract':'The estimation of the forest and vegetation cover in the Valdivian Rainforest Eco-region (35º - 43º30´ S) of Chile in the Pre-European period emerges as a relevant scientific question due to its implications for forest conservation and for the improvement of the understanding of the patterns and dynamics of human settlement. This study uses a transdisciplinary approach integrating information from historical documents, archaeological evidence and the relationship of present vegetation with environmental variables. From this analysis we developed the first reconstruction of the forest and vegetation in the Valdivian Rainforest Eco-region circa 1550 (1:500.000 scale map). Our results indicate that native forests covered 11.3 million ha ca. 1550 at the Spanish conqueror arrival, decreasing to 5.7 million ha in 2007 (50.4 % of the original area). This reduction is due to the conversion of native forests to pasturelands, shrublands and agriculture land and, since 1974, forest plantations of exotic species. This study shows the need to continue developing transdisciplinary research, which integrates historical, archaeological and biophysical (potential vegetation, pollen analysis and dendrochronology) data to improve the understanding of changing forest and vegetation cover under climatic fluctuations and human influences during the last 450 years.' ,\n",
    "    'timestamp': datetime.now(),\n",
    "}\n",
    "res = es.index(index=\"articulo-uach\", doc_type='tweet', id=4, body=doc)\n",
    "\n",
    "doc = {\n",
    "    'title': 'Analysis of explicative models of students retention at the University: A vision from the social inequality',\n",
    "    'abstract':'The article analyzes the evolution of the studies  from the thematic of desertion of students in  the universities in Chile. The studies on educative results have given to account of a meaning problem associate to  poverty. This discussion is in the thematic   wich social and educational exclusion is inserted, including the superior level. It debates the main directions on this matter from the indicated theoretical perspective.' ,\n",
    "    'timestamp': datetime.now(),\n",
    "}\n",
    "res = es.index(index=\"articulo-uach\", doc_type='tweet', id=5, body=doc)\n",
    "\n"
   ]
  },
  {
   "cell_type": "code",
   "execution_count": 38,
   "metadata": {},
   "outputs": [
    {
     "name": "stdout",
     "output_type": "stream",
     "text": [
      "{'abstract': 'Strengthening critical thinking abilities of citizens in the '\n",
      "             'face of news published on the web represents a key challenge for '\n",
      "             'education. Young citizens appear to be vulnerable in the face of '\n",
      "             'poor quality news or those containing non-explicit ideologies. '\n",
      "             'In the field of data science, computational and statistical '\n",
      "             'techniques have been developed to automatically collect and '\n",
      "             'characterize online news media in real time. Nevertheless, there '\n",
      "             'is still not a lot of interdisciplinary research on how to '\n",
      "             'design data exploration platforms supporting an educational '\n",
      "             'process of critical citizenship. This article explores this '\n",
      "             'opportunity through a case study analyzing critical thinking '\n",
      "             'ability of students when facing news dealing with the social '\n",
      "             'mobilization \"No+APF\". From data collected through 4 online '\n",
      "             'exercises conducted by 75 secondary school students. 55 '\n",
      "             'university students and 25 communication specialists, we '\n",
      "             'investigate to what extent young citizens are able to classify '\n",
      "             'news headiness and ideological orientation of news media '\n",
      "             'outlets. We also question the influence of the media is brand '\n",
      "             'name and the subjectivity of each participant in regards to the '\n",
      "             'social mobilization \"No+APF\". The results underline the '\n",
      "             'importance of group work, the influence of the brand name and '\n",
      "             'the correlation between critical-thinking abilities and having a '\n",
      "             'defined opinion.',\n",
      " 'timestamp': '2018-06-16T19:54:09.806501',\n",
      " 'title': 'Critical thinking of young citizens towards news headlines in Chile'}\n",
      "{'abstract': 'To clinically evaluate the patient satisfaction and associated '\n",
      "             'costs of dentures made using a simplified procedure that '\n",
      "             'eliminates assembly on the articulator and dentures made with '\n",
      "             'the conventional technique. Single-blind randomised clinical '\n",
      "             'trial. Forty edentulous patients were randomly divided into 2 '\n",
      "             'groups. One group received dentures made using the conventional '\n",
      "             'method (CG), and the other using a simplified technique (SG) '\n",
      "             'that omits the use of functional impressions (with modelling '\n",
      "             'compound and ZOE impression paste) and an articulator to '\n",
      "             'assemble the models. Overall patient satisfaction was assessed '\n",
      "             'at 3 and 6months by means of a Numerical Rating Scale (NRS). The '\n",
      "             'comparisons were made using a repeated measures ANOVA (P=.05). '\n",
      "             'No significant differences were found in terms of the '\n",
      "             'satisfaction stated by the patients or the quality of the '\n",
      "             'prosthesis evaluated by a professional among the dentures made '\n",
      "             'using the traditional (n=17) and simplified (n=21) techniques. '\n",
      "             'The rehabilitation of an edentulous patient with a simplified '\n",
      "             'technique for the preparation of a total prosthesis is a '\n",
      "             'feasible, more economical alternative and accepted by most '\n",
      "             'patients.',\n",
      " 'timestamp': '2018-06-16T19:54:09.930645',\n",
      " 'title': 'Randomised clinical trial of patient satisfaction with traditional '\n",
      "          'and simplified complete dentures'}\n",
      "{'abstract': 'To examine the levels of academic demands and their stressor '\n",
      "             'consequences is one of the main objectives of this work. In '\n",
      "             'order to do this, twenty four university careers corresponding '\n",
      "             'to two Chilean Universities were evaluated: Universidad Austral '\n",
      "             'de Chile (UACh) and the Universidad de Santiago de Chile '\n",
      "             '(USACh). A total sample of 1.334 students was used for the '\n",
      "             'study. This article focuses its attention on the four UACh is '\n",
      "             'Medicine Careers, using a sample of 225 students. In a '\n",
      "             'comparative analysis of the twenty four careers analyzed as a '\n",
      "             'whole, the UACh is Medicine Faculty achieved the highest grades '\n",
      "             'according to the evaluation made by the students of their '\n",
      "             'respective curricular system. The measuring instrument contains '\n",
      "             'a test battery for cognitive evaluations and curricular stress. '\n",
      "             'This partial result coincides with the total result of the '\n",
      "             'sample. In this way, the inverse relationship between the high '\n",
      "             'level of academic demands and the corresponding low level of '\n",
      "             'stress, and vice-versa, is confirmed. The UACh is Medicine '\n",
      "             'Faculty careers show high demand levels with moderately high '\n",
      "             'stress levels. In particular, the evaluations of personal '\n",
      "             'situations reflect a high self esteem, accompanied with '\n",
      "             'moderately low stress levels. In relation to the ideal idea of '\n",
      "             'what is supposed to be a good curricular system, the students '\n",
      "             'expect high demand levels, showing moderate stressor '\n",
      "             'consequences. These expectations are similar to the rest of the '\n",
      "             'evaluated careers of both universities. ',\n",
      " 'timestamp': '2018-06-16T19:54:10.067906',\n",
      " 'title': 'EXIGENCIAS ACADEMICAS Y ESTRES EN LAS CARRERAS DE LA FACULTAD DE '\n",
      "          'MEDICINA DE LA UNIVERSIDAD AUSTRAL DE CHILE'}\n",
      "{'abstract': 'The estimation of the forest and vegetation cover in the '\n",
      "             'Valdivian Rainforest Eco-region (35º - 43º30´ S) of Chile in the '\n",
      "             'Pre-European period emerges as a relevant scientific question '\n",
      "             'due to its implications for forest conservation and for the '\n",
      "             'improvement of the understanding of the patterns and dynamics of '\n",
      "             'human settlement. This study uses a transdisciplinary approach '\n",
      "             'integrating information from historical documents, '\n",
      "             'archaeological evidence and the relationship of present '\n",
      "             'vegetation with environmental variables. From this analysis we '\n",
      "             'developed the first reconstruction of the forest and vegetation '\n",
      "             'in the Valdivian Rainforest Eco-region circa 1550 (1:500.000 '\n",
      "             'scale map). Our results indicate that native forests covered '\n",
      "             '11.3 million ha ca. 1550 at the Spanish conqueror arrival, '\n",
      "             'decreasing to 5.7 million ha in 2007 (50.4 % of the original '\n",
      "             'area). This reduction is due to the conversion of native forests '\n",
      "             'to pasturelands, shrublands and agriculture land and, since '\n",
      "             '1974, forest plantations of exotic species. This study shows the '\n",
      "             'need to continue developing transdisciplinary research, which '\n",
      "             'integrates historical, archaeological and biophysical (potential '\n",
      "             'vegetation, pollen analysis and dendrochronology) data to '\n",
      "             'improve the understanding of changing forest and vegetation '\n",
      "             'cover under climatic fluctuations and human influences during '\n",
      "             'the last 450 years.',\n",
      " 'timestamp': '2018-06-16T19:54:10.139423',\n",
      " 'title': 'Reconstruction of vegetation cover and land use ca. 1550 and their '\n",
      "          'change towards 2007 in the Valdivian Rainforest Ecoregion of Chile '\n",
      "          '(35º – 43º 30´ S)'}\n",
      "{'abstract': 'The article analyzes the evolution of the studies  from the '\n",
      "             'thematic of desertion of students in  the universities in Chile. '\n",
      "             'The studies on educative results have given to account of a '\n",
      "             'meaning problem associate to  poverty. This discussion is in the '\n",
      "             'thematic   wich social and educational exclusion is inserted, '\n",
      "             'including the superior level. It debates the main directions on '\n",
      "             'this matter from the indicated theoretical perspective.',\n",
      " 'timestamp': '2018-06-16T19:54:10.189930',\n",
      " 'title': 'Analysis of explicative models of student\\x92s retention at the '\n",
      "          'University: A vision from the social inequality'}\n"
     ]
    }
   ],
   "source": [
    "\n",
    "import pprint\n",
    "for i in range(1,6):\n",
    "    res = es.get(index=\"articulo-uach\", doc_type='tweet', id=i)\n",
    "    pprint.pprint(res['_source'])\n",
    "\n"
   ]
  },
  {
   "cell_type": "markdown",
   "metadata": {},
   "source": [
    "4.4 Consultas"
   ]
  },
  {
   "cell_type": "markdown",
   "metadata": {},
   "source": [
    "Buscar textos que contienen ciertas palabras claves"
   ]
  },
  {
   "cell_type": "code",
   "execution_count": 39,
   "metadata": {},
   "outputs": [
    {
     "name": "stdout",
     "output_type": "stream",
     "text": [
      "{'_shards': {'failed': 0, 'skipped': 0, 'successful': 5, 'total': 5},\n",
      " 'hits': {'hits': [{'_id': '2',\n",
      "                    '_index': 'articulo-uach',\n",
      "                    '_score': 1.1930003,\n",
      "                    '_source': {'abstract': 'To clinically evaluate the '\n",
      "                                            'patient satisfaction and '\n",
      "                                            'associated costs of dentures made '\n",
      "                                            'using a simplified procedure that '\n",
      "                                            'eliminates assembly on the '\n",
      "                                            'articulator and dentures made '\n",
      "                                            'with the conventional technique. '\n",
      "                                            'Single-blind randomised clinical '\n",
      "                                            'trial. Forty edentulous patients '\n",
      "                                            'were randomly divided into 2 '\n",
      "                                            'groups. One group received '\n",
      "                                            'dentures made using the '\n",
      "                                            'conventional method (CG), and the '\n",
      "                                            'other using a simplified '\n",
      "                                            'technique (SG) that omits the use '\n",
      "                                            'of functional impressions (with '\n",
      "                                            'modelling compound and ZOE '\n",
      "                                            'impression paste) and an '\n",
      "                                            'articulator to assemble the '\n",
      "                                            'models. Overall patient '\n",
      "                                            'satisfaction was assessed at 3 '\n",
      "                                            'and 6months by means of a '\n",
      "                                            'Numerical Rating Scale (NRS). The '\n",
      "                                            'comparisons were made using a '\n",
      "                                            'repeated measures ANOVA (P=.05). '\n",
      "                                            'No significant differences were '\n",
      "                                            'found in terms of the '\n",
      "                                            'satisfaction stated by the '\n",
      "                                            'patients or the quality of the '\n",
      "                                            'prosthesis evaluated by a '\n",
      "                                            'professional among the dentures '\n",
      "                                            'made using the traditional (n=17) '\n",
      "                                            'and simplified (n=21) techniques. '\n",
      "                                            'The rehabilitation of an '\n",
      "                                            'edentulous patient with a '\n",
      "                                            'simplified technique for the '\n",
      "                                            'preparation of a total prosthesis '\n",
      "                                            'is a feasible, more economical '\n",
      "                                            'alternative and accepted by most '\n",
      "                                            'patients.',\n",
      "                                'timestamp': '2018-06-16T19:54:09.930645',\n",
      "                                'title': 'Randomised clinical trial of patient '\n",
      "                                         'satisfaction with traditional and '\n",
      "                                         'simplified complete dentures'},\n",
      "                    '_type': 'tweet'}],\n",
      "          'max_score': 1.1930003,\n",
      "          'total': 1},\n",
      " 'timed_out': False,\n",
      " 'took': 3}\n"
     ]
    }
   ],
   "source": [
    "af=es.search(index=\"articulo-uach\", body={\"query\": {\"match\": {'abstract':'dentures'}}})\n",
    "pprint.pprint(af)"
   ]
  },
  {
   "cell_type": "code",
   "execution_count": null,
   "metadata": {
    "collapsed": true
   },
   "outputs": [],
   "source": []
  }
 ],
 "metadata": {
  "kernelspec": {
   "display_name": "Python 3",
   "language": "python",
   "name": "python3"
  },
  "language_info": {
   "codemirror_mode": {
    "name": "ipython",
    "version": 3
   },
   "file_extension": ".py",
   "mimetype": "text/x-python",
   "name": "python",
   "nbconvert_exporter": "python",
   "pygments_lexer": "ipython3",
   "version": "3.6.1"
  }
 },
 "nbformat": 4,
 "nbformat_minor": 2
}
